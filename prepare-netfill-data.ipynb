{
 "cells": [
  {
   "cell_type": "code",
   "execution_count": 65,
   "metadata": {},
   "outputs": [],
   "source": [
    "import numpy as np\n",
    "import pickle as pkl\n",
    "import os\n",
    "\n",
    "from graph_tool import load_graph\n",
    "from graph_tool.generation import lattice\n",
    "from graph_tool.spectral import adjacency\n",
    "from graph_tool import load_graph\n",
    "\n",
    "from scipy.io import savemat\n",
    "from glob import glob\n",
    "from tqdm import tqdm\n",
    "\n",
    "from cascade_generator import si, observe_cascade\n",
    "from helpers import infected_nodes, cascade_source, prepare_cascade_for_netfill\n"
   ]
  },
  {
   "cell_type": "code",
   "execution_count": 63,
   "metadata": {},
   "outputs": [],
   "source": [
    "graph_name = 'infectious'\n",
    "infection_proba = 0.1\n",
    "obs_fraction = 0.5\n",
    "cascade_fracion = 0.1"
   ]
  },
  {
   "cell_type": "code",
   "execution_count": 66,
   "metadata": {},
   "outputs": [],
   "source": [
    "g = load_graph('data/{}/graph_weighted_ud_{}.gt'.format(graph_name, infection_proba))"
   ]
  },
  {
   "cell_type": "code",
   "execution_count": 67,
   "metadata": {},
   "outputs": [
    {
     "name": "stderr",
     "output_type": "stream",
     "text": [
      "100%|██████████| 100/100 [00:00<00:00, 603.56it/s]\n"
     ]
    }
   ],
   "source": [
    "input_dir = 'cascade/{}-msi-s{}-o{}-omuniform/'.format(\n",
    "    graph_name, cascade_fracion, obs_fraction)\n",
    "output_dir = 'netfill-data/cascade/{}-msi-s{}-o{}-omuniform/'.format(\n",
    "    graph_name, cascade_fracion, obs_fraction)\n",
    "\n",
    "for input_path in tqdm(glob(input_dir + '*.pkl')):\n",
    "    output_path = os.path.join(output_dir, os.path.basename(input_path))\n",
    "    prepare_cascade_for_netfill(g,\n",
    "                                beta=0.1, p=0.5,\n",
    "                                input_path=input_path,\n",
    "                                output_path=output_path)"
   ]
  },
  {
   "cell_type": "code",
   "execution_count": 68,
   "metadata": {},
   "outputs": [],
   "source": [
    "G = adjacency(g).todense()\n",
    "savemat('netfill-data/graphs/{}.mat'.format(graph_name),\n",
    "        {'G': G},\n",
    "        oned_as='row',\n",
    "        do_compression=True)"
   ]
  }
 ],
 "metadata": {
  "kernelspec": {
   "display_name": "Python 3",
   "language": "python",
   "name": "python3"
  },
  "language_info": {
   "codemirror_mode": {
    "name": "ipython",
    "version": 3
   },
   "file_extension": ".py",
   "mimetype": "text/x-python",
   "name": "python",
   "nbconvert_exporter": "python",
   "pygments_lexer": "ipython3",
   "version": "3.5.2"
  }
 },
 "nbformat": 4,
 "nbformat_minor": 2
}
