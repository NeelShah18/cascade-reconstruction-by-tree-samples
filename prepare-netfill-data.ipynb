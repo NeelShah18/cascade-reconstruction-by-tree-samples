{
 "cells": [
  {
   "cell_type": "code",
   "execution_count": 42,
   "metadata": {},
   "outputs": [],
   "source": [
    "import numpy as np\n",
    "import pickle as pkl\n",
    "import os\n",
    "\n",
    "from graph_tool import load_graph\n",
    "from graph_tool.generation import lattice\n",
    "from graph_tool.spectral import adjacency\n",
    "from graph_tool import load_graph\n",
    "\n",
    "from scipy.io import savemat\n",
    "from glob import glob\n",
    "from tqdm import tqdm\n",
    "\n",
    "from cascade_generator import si, observe_cascade\n",
    "from helpers import infected_nodes, cascade_source, prepare_cascade_for_netfill\n"
   ]
  },
  {
   "cell_type": "code",
   "execution_count": 40,
   "metadata": {},
   "outputs": [],
   "source": [
    "graph_name = 'grqc'\n",
    "infection_proba = 0.1\n",
    "obs_fraction = 0.5\n",
    "cascade_fracion = 0.05"
   ]
  },
  {
   "cell_type": "code",
   "execution_count": 41,
   "metadata": {},
   "outputs": [],
   "source": [
    "g = load_graph('data/{}/graph_weighted_ud_{}.gt'.format(graph_name, infection_proba))"
   ]
  },
  {
   "cell_type": "code",
   "execution_count": 43,
   "metadata": {},
   "outputs": [
    {
     "name": "stderr",
     "output_type": "stream",
     "text": [
      "100%|██████████| 100/100 [00:00<00:00, 417.97it/s]\n"
     ]
    }
   ],
   "source": [
    "input_dir = 'cascade/{}-msi-s{}-o{}-omuniform/'.format(\n",
    "    graph_name, cascade_fracion, obs_fraction)\n",
    "output_dir = 'netfill-cascade/{}-msi-s{}-o{}-omuniform/'.format(\n",
    "    graph_name, cascade_fracion, obs_fraction)\n",
    "\n",
    "for input_path in tqdm(glob(input_dir + '*.pkl')):\n",
    "    output_path = os.path.join(output_dir, os.path.basename(input_path))\n",
    "    prepare_cascade_for_netfill(g,\n",
    "                                beta=0.1, p=0.5,\n",
    "                                input_path=input_path,\n",
    "                                output_path=output_path)"
   ]
  },
  {
   "cell_type": "code",
   "execution_count": 118,
   "metadata": {},
   "outputs": [],
   "source": [
    "g.set_directed(True)\n",
    "edges_iter = list(g.edges())\n",
    "for e in edges_iter:\n",
    "    g.add_edge(e.target(), e.source())"
   ]
  },
  {
   "cell_type": "code",
   "execution_count": 119,
   "metadata": {},
   "outputs": [],
   "source": [
    "edge_weights = g.new_edge_property('float')\n",
    "edge_weights.set_value(beta)"
   ]
  },
  {
   "cell_type": "code",
   "execution_count": 127,
   "metadata": {},
   "outputs": [],
   "source": [
    "from sample_pool import TreeSamplePool\n",
    "from tree_stat import TreeBasedStatistics\n",
    "from inference import infection_probability\n",
    "from random_steiner_tree.util import from_gt\n",
    "\n",
    "\n",
    "gi = from_gt(g, edge_weights)\n",
    "sampler = TreeSamplePool(g, 1000, 'loop_erased', gi)\n",
    "sampler.fill(obs)\n",
    "est = TreeBasedStatistics(g)\n",
    "# est.build_matrix?\n",
    "probas = infection_probability(g, obs, sampler=sampler, error_estimator=est)"
   ]
  },
  {
   "cell_type": "code",
   "execution_count": 128,
   "metadata": {},
   "outputs": [],
   "source": [
    "hidden = list(set(np.arange(g.num_vertices())) - set(obs))"
   ]
  },
  {
   "cell_type": "code",
   "execution_count": 1,
   "metadata": {},
   "outputs": [
    {
     "ename": "NameError",
     "evalue": "name 'D' is not defined",
     "output_type": "error",
     "traceback": [
      "\u001b[0;31m---------------------------------------------------------------------------\u001b[0m",
      "\u001b[0;31mNameError\u001b[0m                                 Traceback (most recent call last)",
      "\u001b[0;32m<ipython-input-1-0311989b5706>\u001b[0m in \u001b[0;36m<module>\u001b[0;34m()\u001b[0m\n\u001b[1;32m      1\u001b[0m \u001b[0;32mfrom\u001b[0m \u001b[0msklearn\u001b[0m\u001b[0;34m.\u001b[0m\u001b[0mmetrics\u001b[0m \u001b[0;32mimport\u001b[0m \u001b[0maverage_precision_score\u001b[0m\u001b[0;34m\u001b[0m\u001b[0m\n\u001b[0;32m----> 2\u001b[0;31m \u001b[0maverage_precision_score\u001b[0m\u001b[0;34m(\u001b[0m\u001b[0mD\u001b[0m\u001b[0;34m[\u001b[0m\u001b[0mhidden\u001b[0m\u001b[0;34m]\u001b[0m\u001b[0;34m,\u001b[0m \u001b[0mprobas\u001b[0m\u001b[0;34m[\u001b[0m\u001b[0mhidden\u001b[0m\u001b[0;34m]\u001b[0m\u001b[0;34m)\u001b[0m\u001b[0;34m\u001b[0m\u001b[0m\n\u001b[0m",
      "\u001b[0;31mNameError\u001b[0m: name 'D' is not defined"
     ]
    }
   ],
   "source": [
    "from sklearn.metrics import average_precision_score\n",
    "average_precision_score(D[hidden], probas[hidden])"
   ]
  }
 ],
 "metadata": {
  "kernelspec": {
   "display_name": "Python 3",
   "language": "python",
   "name": "python3"
  },
  "language_info": {
   "codemirror_mode": {
    "name": "ipython",
    "version": 3
   },
   "file_extension": ".py",
   "mimetype": "text/x-python",
   "name": "python",
   "nbconvert_exporter": "python",
   "pygments_lexer": "ipython3",
   "version": "3.5.2"
  }
 },
 "nbformat": 4,
 "nbformat_minor": 2
}
