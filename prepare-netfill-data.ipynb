{
 "cells": [
  {
   "cell_type": "code",
   "execution_count": 4,
   "metadata": {},
   "outputs": [],
   "source": [
    "import numpy as np\n",
    "import pickle as pkl\n",
    "import os\n",
    "\n",
    "from graph_tool import load_graph\n",
    "from graph_tool.generation import lattice\n",
    "from graph_tool.spectral import adjacency\n",
    "from graph_tool import load_graph\n",
    "\n",
    "from scipy.io import savemat\n",
    "from glob import glob\n",
    "from tqdm import tqdm\n",
    "\n",
    "from itertools import product\n",
    "\n",
    "from cascade_generator import si, observe_cascade\n",
    "from helpers import infected_nodes, cascade_source, prepare_cascade_for_netfill\n"
   ]
  },
  {
   "cell_type": "code",
   "execution_count": 18,
   "metadata": {},
   "outputs": [],
   "source": [
    "# graph_names = ['infectious', 'lattice-1024']\n",
    "graph_names = ['grqc']\n",
    "infection_proba = 0.1\n",
    "# obs_fractions = [0.5, 0.6, 0.7, 0.8, 0.9]\n",
    "obs_fractions = [0.5]\n",
    "# cascade_fracions = [0.05]\n",
    "# cascade_fracions = [0.1, 0.2, 0.3, 0.4, 0.5]\n",
    "cascade_fracions = [0.05, 0.1, 0.15, 0.2, 0.25]"
   ]
  },
  {
   "cell_type": "code",
   "execution_count": 21,
   "metadata": {},
   "outputs": [],
   "source": [
    "def do(graph_name, obs_fraction, cascade_fracion):\n",
    "    print(graph_name, obs_fraction, cascade_fracion)\n",
    "    g = load_graph('data/{}/graph_weighted_ud_{}.gt'.format(graph_name, infection_proba))\n",
    "    input_dir = 'cascade/{}-msi-s{}-o{}-omuniform/'.format(\n",
    "        graph_name, cascade_fracion, obs_fraction)\n",
    "    output_dir = 'netfill-data/cascade/{}-msi-s{}-o{}-omuniform/'.format(\n",
    "        graph_name, cascade_fracion, obs_fraction)\n",
    "\n",
    "    for input_path in tqdm(glob(input_dir + '*.pkl')):\n",
    "        output_path = os.path.join(output_dir, os.path.basename(input_path))\n",
    "        prepare_cascade_for_netfill(g,\n",
    "                                    beta=0.1, p=0.5,\n",
    "                                    input_path=input_path,\n",
    "                                    output_path=output_path)"
   ]
  },
  {
   "cell_type": "code",
   "execution_count": 22,
   "metadata": {},
   "outputs": [
    {
     "name": "stderr",
     "output_type": "stream",
     "text": [
      " 57%|█████▋    | 57/100 [00:00<00:00, 566.57it/s]"
     ]
    },
    {
     "name": "stdout",
     "output_type": "stream",
     "text": [
      "grqc 0.5 0.05\n"
     ]
    },
    {
     "name": "stderr",
     "output_type": "stream",
     "text": [
      "100%|██████████| 100/100 [00:00<00:00, 604.13it/s]\n",
      " 57%|█████▋    | 57/100 [00:00<00:00, 380.94it/s]"
     ]
    },
    {
     "name": "stdout",
     "output_type": "stream",
     "text": [
      "grqc 0.5 0.1\n"
     ]
    },
    {
     "name": "stderr",
     "output_type": "stream",
     "text": [
      "100%|██████████| 100/100 [00:00<00:00, 196.42it/s]\n",
      "100%|██████████| 100/100 [00:00<00:00, 578.20it/s]\n",
      "  0%|          | 0/100 [00:00<?, ?it/s]"
     ]
    },
    {
     "name": "stdout",
     "output_type": "stream",
     "text": [
      "grqc 0.5 0.15\n",
      "grqc 0.5 0.2\n"
     ]
    },
    {
     "name": "stderr",
     "output_type": "stream",
     "text": [
      "100%|██████████| 100/100 [00:00<00:00, 526.16it/s]\n",
      " 48%|████▊     | 48/100 [00:00<00:00, 479.13it/s]"
     ]
    },
    {
     "name": "stdout",
     "output_type": "stream",
     "text": [
      "grqc 0.5 0.25\n"
     ]
    },
    {
     "name": "stderr",
     "output_type": "stream",
     "text": [
      "100%|██████████| 100/100 [00:00<00:00, 247.48it/s]\n"
     ]
    }
   ],
   "source": [
    "for gn, of, cf in product(graph_names, obs_fractions, cascade_fracions):\n",
    "    do(gn, of, cf)"
   ]
  },
  {
   "cell_type": "code",
   "execution_count": 68,
   "metadata": {},
   "outputs": [],
   "source": [
    "G = adjacency(g).todense()\n",
    "savemat('netfill-data/graphs/{}.mat'.format(graph_name),\n",
    "        {'G': G},\n",
    "        oned_as='row',\n",
    "        do_compression=True)"
   ]
  }
 ],
 "metadata": {
  "kernelspec": {
   "display_name": "Python 3",
   "language": "python",
   "name": "python3"
  },
  "language_info": {
   "codemirror_mode": {
    "name": "ipython",
    "version": 3
   },
   "file_extension": ".py",
   "mimetype": "text/x-python",
   "name": "python",
   "nbconvert_exporter": "python",
   "pygments_lexer": "ipython3",
   "version": "3.5.2"
  }
 },
 "nbformat": 4,
 "nbformat_minor": 2
}
