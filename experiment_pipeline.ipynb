{
 "cells": [
  {
   "cell_type": "code",
   "execution_count": 31,
   "metadata": {},
   "outputs": [],
   "source": [
    "import numpy as np\n",
    "import pickle as pkl\n",
    "import os\n",
    "import pandas as pd\n",
    "\n",
    "from graph_tool import load_graph\n",
    "from graph_tool import load_graph\n",
    "from glob import glob\n",
    "from tqdm import tqdm\n",
    "from sklearn.metrics import average_precision_score\n",
    "from joblib import Parallel, delayed\n",
    "\n",
    "from eval_helpers import eval_map\n",
    "from experiment import one_run"
   ]
  },
  {
   "cell_type": "code",
   "execution_count": 61,
   "metadata": {},
   "outputs": [],
   "source": [
    "graph_name = 'grqc'\n",
    "infection_proba = 0.1\n",
    "obs_fraction = 0.5\n",
    "cascade_fracion = 0.05\n"
   ]
  },
  {
   "cell_type": "code",
   "execution_count": 62,
   "metadata": {},
   "outputs": [],
   "source": [
    "g = load_graph('data/{}/graph_weighted_{}.gt'.format(graph_name, infection_proba))\n",
    "edge_weights = g.edge_properties['weights']"
   ]
  },
  {
   "cell_type": "code",
   "execution_count": 63,
   "metadata": {},
   "outputs": [],
   "source": [
    "input_dir = 'cascade/{}-msi-s{}-o{}-omuniform/'.format(\n",
    "    graph_name, cascade_fracion, obs_fraction)\n",
    "output_dir = 'output/{}-msi-s{}-o{}-omuniform/'.format(\n",
    "    graph_name, cascade_fracion, obs_fraction)"
   ]
  },
  {
   "cell_type": "code",
   "execution_count": 49,
   "metadata": {
    "scrolled": false
   },
   "outputs": [
    {
     "name": "stderr",
     "output_type": "stream",
     "text": [
      "100%|██████████| 100/100 [00:13<00:00,  8.01it/s]\n"
     ]
    }
   ],
   "source": [
    "_ = Parallel(n_jobs=-1)(delayed(one_run)(g, edge_weights, input_path, output_dir)\n",
    "                        for input_path in tqdm(glob(input_dir + '*.pkl')))"
   ]
  },
  {
   "cell_type": "code",
   "execution_count": 64,
   "metadata": {},
   "outputs": [
    {
     "name": "stderr",
     "output_type": "stream",
     "text": [
      "100%|██████████| 100/100 [00:00<00:00, 302.14it/s]\n"
     ]
    }
   ],
   "source": [
    "scores = eval_map(input_dir, output_dir)"
   ]
  },
  {
   "cell_type": "code",
   "execution_count": 65,
   "metadata": {},
   "outputs": [
    {
     "name": "stdout",
     "output_type": "stream",
     "text": [
      "count    100.000000\n",
      "mean       0.395753\n",
      "std        0.074845\n",
      "min        0.246047\n",
      "25%        0.337952\n",
      "50%        0.388653\n",
      "75%        0.449844\n",
      "max        0.584479\n",
      "dtype: float64\n"
     ]
    }
   ],
   "source": [
    "print(pd.Series(scores).describe())"
   ]
  }
 ],
 "metadata": {
  "kernelspec": {
   "display_name": "Python 3",
   "language": "python",
   "name": "python3"
  },
  "language_info": {
   "codemirror_mode": {
    "name": "ipython",
    "version": 3
   },
   "file_extension": ".py",
   "mimetype": "text/x-python",
   "name": "python",
   "nbconvert_exporter": "python",
   "pygments_lexer": "ipython3",
   "version": "3.5.2"
  }
 },
 "nbformat": 4,
 "nbformat_minor": 2
}
